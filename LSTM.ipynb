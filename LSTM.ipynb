{
  "nbformat": 4,
  "nbformat_minor": 0,
  "metadata": {
    "colab": {
      "provenance": [],
      "gpuType": "T4",
      "authorship_tag": "ABX9TyP+1ENguLpnyFgyueJ+8jTL",
      "include_colab_link": true
    },
    "kernelspec": {
      "name": "python3",
      "display_name": "Python 3"
    },
    "language_info": {
      "name": "python"
    },
    "accelerator": "GPU"
  },
  "cells": [
    {
      "cell_type": "markdown",
      "metadata": {
        "id": "view-in-github",
        "colab_type": "text"
      },
      "source": [
        "<a href=\"https://colab.research.google.com/github/aryanarora07/ML-AI/blob/main/LSTM.ipynb\" target=\"_parent\"><img src=\"https://colab.research.google.com/assets/colab-badge.svg\" alt=\"Open In Colab\"/></a>"
      ]
    },
    {
      "cell_type": "code",
      "execution_count": 1,
      "metadata": {
        "colab": {
          "base_uri": "https://localhost:8080/",
          "height": 1000
        },
        "id": "_d_mjsjqnv-Q",
        "outputId": "a5f1f653-710b-4079-d204-cd16f19b8a14"
      },
      "outputs": [
        {
          "output_type": "stream",
          "name": "stderr",
          "text": [
            "/usr/local/lib/python3.11/dist-packages/keras/src/layers/core/embedding.py:90: UserWarning: Argument `input_length` is deprecated. Just remove it.\n",
            "  warnings.warn(\n"
          ]
        },
        {
          "output_type": "display_data",
          "data": {
            "text/plain": [
              "\u001b[1mModel: \"sequential\"\u001b[0m\n"
            ],
            "text/html": [
              "<pre style=\"white-space:pre;overflow-x:auto;line-height:normal;font-family:Menlo,'DejaVu Sans Mono',consolas,'Courier New',monospace\"><span style=\"font-weight: bold\">Model: \"sequential\"</span>\n",
              "</pre>\n"
            ]
          },
          "metadata": {}
        },
        {
          "output_type": "display_data",
          "data": {
            "text/plain": [
              "┏━━━━━━━━━━━━━━━━━━━━━━━━━━━━━━━━━━━━━━┳━━━━━━━━━━━━━━━━━━━━━━━━━━━━━┳━━━━━━━━━━━━━━━━━┓\n",
              "┃\u001b[1m \u001b[0m\u001b[1mLayer (type)                        \u001b[0m\u001b[1m \u001b[0m┃\u001b[1m \u001b[0m\u001b[1mOutput Shape               \u001b[0m\u001b[1m \u001b[0m┃\u001b[1m \u001b[0m\u001b[1m        Param #\u001b[0m\u001b[1m \u001b[0m┃\n",
              "┡━━━━━━━━━━━━━━━━━━━━━━━━━━━━━━━━━━━━━━╇━━━━━━━━━━━━━━━━━━━━━━━━━━━━━╇━━━━━━━━━━━━━━━━━┩\n",
              "│ embedding (\u001b[38;5;33mEmbedding\u001b[0m)                │ ?                           │     \u001b[38;5;34m0\u001b[0m (unbuilt) │\n",
              "├──────────────────────────────────────┼─────────────────────────────┼─────────────────┤\n",
              "│ lstm (\u001b[38;5;33mLSTM\u001b[0m)                          │ ?                           │     \u001b[38;5;34m0\u001b[0m (unbuilt) │\n",
              "├──────────────────────────────────────┼─────────────────────────────┼─────────────────┤\n",
              "│ dropout (\u001b[38;5;33mDropout\u001b[0m)                    │ ?                           │               \u001b[38;5;34m0\u001b[0m │\n",
              "├──────────────────────────────────────┼─────────────────────────────┼─────────────────┤\n",
              "│ dense (\u001b[38;5;33mDense\u001b[0m)                        │ ?                           │     \u001b[38;5;34m0\u001b[0m (unbuilt) │\n",
              "└──────────────────────────────────────┴─────────────────────────────┴─────────────────┘\n"
            ],
            "text/html": [
              "<pre style=\"white-space:pre;overflow-x:auto;line-height:normal;font-family:Menlo,'DejaVu Sans Mono',consolas,'Courier New',monospace\">┏━━━━━━━━━━━━━━━━━━━━━━━━━━━━━━━━━━━━━━┳━━━━━━━━━━━━━━━━━━━━━━━━━━━━━┳━━━━━━━━━━━━━━━━━┓\n",
              "┃<span style=\"font-weight: bold\"> Layer (type)                         </span>┃<span style=\"font-weight: bold\"> Output Shape                </span>┃<span style=\"font-weight: bold\">         Param # </span>┃\n",
              "┡━━━━━━━━━━━━━━━━━━━━━━━━━━━━━━━━━━━━━━╇━━━━━━━━━━━━━━━━━━━━━━━━━━━━━╇━━━━━━━━━━━━━━━━━┩\n",
              "│ embedding (<span style=\"color: #0087ff; text-decoration-color: #0087ff\">Embedding</span>)                │ ?                           │     <span style=\"color: #00af00; text-decoration-color: #00af00\">0</span> (unbuilt) │\n",
              "├──────────────────────────────────────┼─────────────────────────────┼─────────────────┤\n",
              "│ lstm (<span style=\"color: #0087ff; text-decoration-color: #0087ff\">LSTM</span>)                          │ ?                           │     <span style=\"color: #00af00; text-decoration-color: #00af00\">0</span> (unbuilt) │\n",
              "├──────────────────────────────────────┼─────────────────────────────┼─────────────────┤\n",
              "│ dropout (<span style=\"color: #0087ff; text-decoration-color: #0087ff\">Dropout</span>)                    │ ?                           │               <span style=\"color: #00af00; text-decoration-color: #00af00\">0</span> │\n",
              "├──────────────────────────────────────┼─────────────────────────────┼─────────────────┤\n",
              "│ dense (<span style=\"color: #0087ff; text-decoration-color: #0087ff\">Dense</span>)                        │ ?                           │     <span style=\"color: #00af00; text-decoration-color: #00af00\">0</span> (unbuilt) │\n",
              "└──────────────────────────────────────┴─────────────────────────────┴─────────────────┘\n",
              "</pre>\n"
            ]
          },
          "metadata": {}
        },
        {
          "output_type": "display_data",
          "data": {
            "text/plain": [
              "\u001b[1m Total params: \u001b[0m\u001b[38;5;34m0\u001b[0m (0.00 B)\n"
            ],
            "text/html": [
              "<pre style=\"white-space:pre;overflow-x:auto;line-height:normal;font-family:Menlo,'DejaVu Sans Mono',consolas,'Courier New',monospace\"><span style=\"font-weight: bold\"> Total params: </span><span style=\"color: #00af00; text-decoration-color: #00af00\">0</span> (0.00 B)\n",
              "</pre>\n"
            ]
          },
          "metadata": {}
        },
        {
          "output_type": "display_data",
          "data": {
            "text/plain": [
              "\u001b[1m Trainable params: \u001b[0m\u001b[38;5;34m0\u001b[0m (0.00 B)\n"
            ],
            "text/html": [
              "<pre style=\"white-space:pre;overflow-x:auto;line-height:normal;font-family:Menlo,'DejaVu Sans Mono',consolas,'Courier New',monospace\"><span style=\"font-weight: bold\"> Trainable params: </span><span style=\"color: #00af00; text-decoration-color: #00af00\">0</span> (0.00 B)\n",
              "</pre>\n"
            ]
          },
          "metadata": {}
        },
        {
          "output_type": "display_data",
          "data": {
            "text/plain": [
              "\u001b[1m Non-trainable params: \u001b[0m\u001b[38;5;34m0\u001b[0m (0.00 B)\n"
            ],
            "text/html": [
              "<pre style=\"white-space:pre;overflow-x:auto;line-height:normal;font-family:Menlo,'DejaVu Sans Mono',consolas,'Courier New',monospace\"><span style=\"font-weight: bold\"> Non-trainable params: </span><span style=\"color: #00af00; text-decoration-color: #00af00\">0</span> (0.00 B)\n",
              "</pre>\n"
            ]
          },
          "metadata": {}
        },
        {
          "output_type": "stream",
          "name": "stdout",
          "text": [
            "Epoch 1/50\n",
            "\u001b[1m1512/1512\u001b[0m \u001b[32m━━━━━━━━━━━━━━━━━━━━\u001b[0m\u001b[37m\u001b[0m \u001b[1m24s\u001b[0m 11ms/step - accuracy: 0.1273 - loss: 6.0619 - val_accuracy: 0.5479 - val_loss: 3.7603\n",
            "Epoch 2/50\n",
            "\u001b[1m1512/1512\u001b[0m \u001b[32m━━━━━━━━━━━━━━━━━━━━\u001b[0m\u001b[37m\u001b[0m \u001b[1m16s\u001b[0m 11ms/step - accuracy: 0.6510 - loss: 2.7076 - val_accuracy: 0.7304 - val_loss: 2.5605\n",
            "Epoch 3/50\n",
            "\u001b[1m1512/1512\u001b[0m \u001b[32m━━━━━━━━━━━━━━━━━━━━\u001b[0m\u001b[37m\u001b[0m \u001b[1m20s\u001b[0m 10ms/step - accuracy: 0.8208 - loss: 1.4636 - val_accuracy: 0.7948 - val_loss: 2.1998\n",
            "Epoch 4/50\n",
            "\u001b[1m1512/1512\u001b[0m \u001b[32m━━━━━━━━━━━━━━━━━━━━\u001b[0m\u001b[37m\u001b[0m \u001b[1m16s\u001b[0m 10ms/step - accuracy: 0.8895 - loss: 0.9072 - val_accuracy: 0.8289 - val_loss: 2.0162\n",
            "Epoch 5/50\n",
            "\u001b[1m1512/1512\u001b[0m \u001b[32m━━━━━━━━━━━━━━━━━━━━\u001b[0m\u001b[37m\u001b[0m \u001b[1m15s\u001b[0m 10ms/step - accuracy: 0.9263 - loss: 0.5928 - val_accuracy: 0.8520 - val_loss: 1.9250\n",
            "Epoch 6/50\n",
            "\u001b[1m1512/1512\u001b[0m \u001b[32m━━━━━━━━━━━━━━━━━━━━\u001b[0m\u001b[37m\u001b[0m \u001b[1m21s\u001b[0m 10ms/step - accuracy: 0.9542 - loss: 0.3800 - val_accuracy: 0.8636 - val_loss: 1.9012\n",
            "Epoch 7/50\n",
            "\u001b[1m1512/1512\u001b[0m \u001b[32m━━━━━━━━━━━━━━━━━━━━\u001b[0m\u001b[37m\u001b[0m \u001b[1m20s\u001b[0m 10ms/step - accuracy: 0.9777 - loss: 0.2245 - val_accuracy: 0.8674 - val_loss: 1.9000\n",
            "Epoch 8/50\n",
            "\u001b[1m1512/1512\u001b[0m \u001b[32m━━━━━━━━━━━━━━━━━━━━\u001b[0m\u001b[37m\u001b[0m \u001b[1m20s\u001b[0m 10ms/step - accuracy: 0.9929 - loss: 0.1234 - val_accuracy: 0.8702 - val_loss: 1.8818\n",
            "Epoch 9/50\n",
            "\u001b[1m1512/1512\u001b[0m \u001b[32m━━━━━━━━━━━━━━━━━━━━\u001b[0m\u001b[37m\u001b[0m \u001b[1m20s\u001b[0m 10ms/step - accuracy: 0.9981 - loss: 0.0615 - val_accuracy: 0.8721 - val_loss: 1.8465\n",
            "Epoch 10/50\n",
            "\u001b[1m1512/1512\u001b[0m \u001b[32m━━━━━━━━━━━━━━━━━━━━\u001b[0m\u001b[37m\u001b[0m \u001b[1m21s\u001b[0m 11ms/step - accuracy: 0.9994 - loss: 0.0274 - val_accuracy: 0.8755 - val_loss: 1.8187\n",
            "Epoch 11/50\n",
            "\u001b[1m1512/1512\u001b[0m \u001b[32m━━━━━━━━━━━━━━━━━━━━\u001b[0m\u001b[37m\u001b[0m \u001b[1m16s\u001b[0m 10ms/step - accuracy: 0.9995 - loss: 0.0137 - val_accuracy: 0.8754 - val_loss: 1.7902\n",
            "Epoch 12/50\n",
            "\u001b[1m1512/1512\u001b[0m \u001b[32m━━━━━━━━━━━━━━━━━━━━\u001b[0m\u001b[37m\u001b[0m \u001b[1m16s\u001b[0m 10ms/step - accuracy: 0.9996 - loss: 0.0073 - val_accuracy: 0.8766 - val_loss: 1.7477\n",
            "Epoch 13/50\n",
            "\u001b[1m1512/1512\u001b[0m \u001b[32m━━━━━━━━━━━━━━━━━━━━\u001b[0m\u001b[37m\u001b[0m \u001b[1m21s\u001b[0m 11ms/step - accuracy: 0.9997 - loss: 0.0047 - val_accuracy: 0.8785 - val_loss: 1.7095\n",
            "Epoch 14/50\n",
            "\u001b[1m1512/1512\u001b[0m \u001b[32m━━━━━━━━━━━━━━━━━━━━\u001b[0m\u001b[37m\u001b[0m \u001b[1m20s\u001b[0m 10ms/step - accuracy: 0.9998 - loss: 0.0032 - val_accuracy: 0.8802 - val_loss: 1.6887\n",
            "Epoch 15/50\n",
            "\u001b[1m1512/1512\u001b[0m \u001b[32m━━━━━━━━━━━━━━━━━━━━\u001b[0m\u001b[37m\u001b[0m \u001b[1m15s\u001b[0m 10ms/step - accuracy: 0.9996 - loss: 0.0027 - val_accuracy: 0.8811 - val_loss: 1.6634\n",
            "Epoch 16/50\n",
            "\u001b[1m1512/1512\u001b[0m \u001b[32m━━━━━━━━━━━━━━━━━━━━\u001b[0m\u001b[37m\u001b[0m \u001b[1m21s\u001b[0m 10ms/step - accuracy: 0.9998 - loss: 0.0017 - val_accuracy: 0.8830 - val_loss: 1.5982\n",
            "Epoch 17/50\n",
            "\u001b[1m1512/1512\u001b[0m \u001b[32m━━━━━━━━━━━━━━━━━━━━\u001b[0m\u001b[37m\u001b[0m \u001b[1m16s\u001b[0m 10ms/step - accuracy: 0.9996 - loss: 0.0016 - val_accuracy: 0.8819 - val_loss: 1.6050\n",
            "Epoch 18/50\n",
            "\u001b[1m1512/1512\u001b[0m \u001b[32m━━━━━━━━━━━━━━━━━━━━\u001b[0m\u001b[37m\u001b[0m \u001b[1m21s\u001b[0m 11ms/step - accuracy: 0.9998 - loss: 9.9057e-04 - val_accuracy: 0.8835 - val_loss: 1.5311\n",
            "Epoch 19/50\n",
            "\u001b[1m1512/1512\u001b[0m \u001b[32m━━━━━━━━━━━━━━━━━━━━\u001b[0m\u001b[37m\u001b[0m \u001b[1m20s\u001b[0m 10ms/step - accuracy: 0.9999 - loss: 9.8405e-04 - val_accuracy: 0.8847 - val_loss: 1.4960\n",
            "Epoch 20/50\n",
            "\u001b[1m1512/1512\u001b[0m \u001b[32m━━━━━━━━━━━━━━━━━━━━\u001b[0m\u001b[37m\u001b[0m \u001b[1m21s\u001b[0m 10ms/step - accuracy: 0.9998 - loss: 8.9102e-04 - val_accuracy: 0.8849 - val_loss: 1.5227\n",
            "Epoch 21/50\n",
            "\u001b[1m1512/1512\u001b[0m \u001b[32m━━━━━━━━━━━━━━━━━━━━\u001b[0m\u001b[37m\u001b[0m \u001b[1m20s\u001b[0m 10ms/step - accuracy: 0.9999 - loss: 5.7064e-04 - val_accuracy: 0.8855 - val_loss: 1.4968\n",
            "Epoch 22/50\n",
            "\u001b[1m1512/1512\u001b[0m \u001b[32m━━━━━━━━━━━━━━━━━━━━\u001b[0m\u001b[37m\u001b[0m \u001b[1m21s\u001b[0m 11ms/step - accuracy: 0.9997 - loss: 9.9166e-04 - val_accuracy: 0.8852 - val_loss: 1.4738\n",
            "Epoch 23/50\n",
            "\u001b[1m1512/1512\u001b[0m \u001b[32m━━━━━━━━━━━━━━━━━━━━\u001b[0m\u001b[37m\u001b[0m \u001b[1m20s\u001b[0m 10ms/step - accuracy: 0.9998 - loss: 6.3216e-04 - val_accuracy: 0.8852 - val_loss: 1.4459\n",
            "Epoch 24/50\n",
            "\u001b[1m1512/1512\u001b[0m \u001b[32m━━━━━━━━━━━━━━━━━━━━\u001b[0m\u001b[37m\u001b[0m \u001b[1m21s\u001b[0m 11ms/step - accuracy: 0.9998 - loss: 6.1734e-04 - val_accuracy: 0.8840 - val_loss: 1.4428\n",
            "Epoch 25/50\n",
            "\u001b[1m1512/1512\u001b[0m \u001b[32m━━━━━━━━━━━━━━━━━━━━\u001b[0m\u001b[37m\u001b[0m \u001b[1m20s\u001b[0m 10ms/step - accuracy: 0.9998 - loss: 5.3832e-04 - val_accuracy: 0.8859 - val_loss: 1.4388\n",
            "Epoch 26/50\n",
            "\u001b[1m1512/1512\u001b[0m \u001b[32m━━━━━━━━━━━━━━━━━━━━\u001b[0m\u001b[37m\u001b[0m \u001b[1m21s\u001b[0m 11ms/step - accuracy: 0.9998 - loss: 5.6306e-04 - val_accuracy: 0.8852 - val_loss: 1.4202\n",
            "Epoch 27/50\n",
            "\u001b[1m1512/1512\u001b[0m \u001b[32m━━━━━━━━━━━━━━━━━━━━\u001b[0m\u001b[37m\u001b[0m \u001b[1m20s\u001b[0m 10ms/step - accuracy: 0.9998 - loss: 5.0082e-04 - val_accuracy: 0.8875 - val_loss: 1.3801\n",
            "Epoch 28/50\n",
            "\u001b[1m1512/1512\u001b[0m \u001b[32m━━━━━━━━━━━━━━━━━━━━\u001b[0m\u001b[37m\u001b[0m \u001b[1m20s\u001b[0m 10ms/step - accuracy: 0.9999 - loss: 4.3378e-04 - val_accuracy: 0.8865 - val_loss: 1.4375\n",
            "Epoch 29/50\n",
            "\u001b[1m1512/1512\u001b[0m \u001b[32m━━━━━━━━━━━━━━━━━━━━\u001b[0m\u001b[37m\u001b[0m \u001b[1m15s\u001b[0m 10ms/step - accuracy: 0.9998 - loss: 5.9883e-04 - val_accuracy: 0.8861 - val_loss: 1.4242\n",
            "Epoch 30/50\n",
            "\u001b[1m1512/1512\u001b[0m \u001b[32m━━━━━━━━━━━━━━━━━━━━\u001b[0m\u001b[37m\u001b[0m \u001b[1m16s\u001b[0m 10ms/step - accuracy: 0.9999 - loss: 4.4718e-04 - val_accuracy: 0.8860 - val_loss: 1.4063\n",
            "Epoch 31/50\n",
            "\u001b[1m1512/1512\u001b[0m \u001b[32m━━━━━━━━━━━━━━━━━━━━\u001b[0m\u001b[37m\u001b[0m \u001b[1m15s\u001b[0m 10ms/step - accuracy: 0.9999 - loss: 3.0785e-04 - val_accuracy: 0.8872 - val_loss: 1.3914\n",
            "Epoch 32/50\n",
            "\u001b[1m1512/1512\u001b[0m \u001b[32m━━━━━━━━━━━━━━━━━━━━\u001b[0m\u001b[37m\u001b[0m \u001b[1m21s\u001b[0m 11ms/step - accuracy: 0.9998 - loss: 4.6642e-04 - val_accuracy: 0.8869 - val_loss: 1.4120\n",
            "Epoch 33/50\n",
            "\u001b[1m1512/1512\u001b[0m \u001b[32m━━━━━━━━━━━━━━━━━━━━\u001b[0m\u001b[37m\u001b[0m \u001b[1m20s\u001b[0m 10ms/step - accuracy: 0.9999 - loss: 2.9168e-04 - val_accuracy: 0.8875 - val_loss: 1.4081\n",
            "Epoch 34/50\n",
            "\u001b[1m1512/1512\u001b[0m \u001b[32m━━━━━━━━━━━━━━━━━━━━\u001b[0m\u001b[37m\u001b[0m \u001b[1m16s\u001b[0m 11ms/step - accuracy: 0.9999 - loss: 3.2509e-04 - val_accuracy: 0.8875 - val_loss: 1.3948\n",
            "Epoch 35/50\n",
            "\u001b[1m1512/1512\u001b[0m \u001b[32m━━━━━━━━━━━━━━━━━━━━\u001b[0m\u001b[37m\u001b[0m \u001b[1m15s\u001b[0m 10ms/step - accuracy: 0.9999 - loss: 3.4503e-04 - val_accuracy: 0.8864 - val_loss: 1.3925\n",
            "Epoch 36/50\n",
            "\u001b[1m1512/1512\u001b[0m \u001b[32m━━━━━━━━━━━━━━━━━━━━\u001b[0m\u001b[37m\u001b[0m \u001b[1m21s\u001b[0m 10ms/step - accuracy: 0.9999 - loss: 3.5172e-04 - val_accuracy: 0.8862 - val_loss: 1.3853\n",
            "Epoch 37/50\n",
            "\u001b[1m1512/1512\u001b[0m \u001b[32m━━━━━━━━━━━━━━━━━━━━\u001b[0m\u001b[37m\u001b[0m \u001b[1m20s\u001b[0m 10ms/step - accuracy: 0.9998 - loss: 6.3255e-04 - val_accuracy: 0.8875 - val_loss: 1.3698\n",
            "Epoch 38/50\n",
            "\u001b[1m1512/1512\u001b[0m \u001b[32m━━━━━━━━━━━━━━━━━━━━\u001b[0m\u001b[37m\u001b[0m \u001b[1m20s\u001b[0m 10ms/step - accuracy: 0.9998 - loss: 4.8105e-04 - val_accuracy: 0.8877 - val_loss: 1.3505\n",
            "Epoch 39/50\n",
            "\u001b[1m1512/1512\u001b[0m \u001b[32m━━━━━━━━━━━━━━━━━━━━\u001b[0m\u001b[37m\u001b[0m \u001b[1m21s\u001b[0m 11ms/step - accuracy: 0.9999 - loss: 2.6485e-04 - val_accuracy: 0.8871 - val_loss: 1.3523\n",
            "Epoch 40/50\n",
            "\u001b[1m1512/1512\u001b[0m \u001b[32m━━━━━━━━━━━━━━━━━━━━\u001b[0m\u001b[37m\u001b[0m \u001b[1m21s\u001b[0m 11ms/step - accuracy: 1.0000 - loss: 1.6199e-04 - val_accuracy: 0.8874 - val_loss: 1.3579\n",
            "Epoch 41/50\n",
            "\u001b[1m1512/1512\u001b[0m \u001b[32m━━━━━━━━━━━━━━━━━━━━\u001b[0m\u001b[37m\u001b[0m \u001b[1m16s\u001b[0m 11ms/step - accuracy: 0.9999 - loss: 3.5299e-04 - val_accuracy: 0.8873 - val_loss: 1.3719\n",
            "Epoch 42/50\n",
            "\u001b[1m1512/1512\u001b[0m \u001b[32m━━━━━━━━━━━━━━━━━━━━\u001b[0m\u001b[37m\u001b[0m \u001b[1m20s\u001b[0m 11ms/step - accuracy: 0.9999 - loss: 2.7163e-04 - val_accuracy: 0.8876 - val_loss: 1.3892\n",
            "Epoch 43/50\n",
            "\u001b[1m1512/1512\u001b[0m \u001b[32m━━━━━━━━━━━━━━━━━━━━\u001b[0m\u001b[37m\u001b[0m \u001b[1m20s\u001b[0m 10ms/step - accuracy: 0.9998 - loss: 4.3250e-04 - val_accuracy: 0.8875 - val_loss: 1.3374\n",
            "Epoch 44/50\n",
            "\u001b[1m1512/1512\u001b[0m \u001b[32m━━━━━━━━━━━━━━━━━━━━\u001b[0m\u001b[37m\u001b[0m \u001b[1m16s\u001b[0m 11ms/step - accuracy: 1.0000 - loss: 2.1721e-04 - val_accuracy: 0.8862 - val_loss: 1.3610\n",
            "Epoch 45/50\n",
            "\u001b[1m1512/1512\u001b[0m \u001b[32m━━━━━━━━━━━━━━━━━━━━\u001b[0m\u001b[37m\u001b[0m \u001b[1m15s\u001b[0m 10ms/step - accuracy: 0.9999 - loss: 1.9729e-04 - val_accuracy: 0.8876 - val_loss: 1.3325\n",
            "Epoch 46/50\n",
            "\u001b[1m1512/1512\u001b[0m \u001b[32m━━━━━━━━━━━━━━━━━━━━\u001b[0m\u001b[37m\u001b[0m \u001b[1m21s\u001b[0m 11ms/step - accuracy: 0.9999 - loss: 2.4078e-04 - val_accuracy: 0.8874 - val_loss: 1.3419\n",
            "Epoch 47/50\n",
            "\u001b[1m1512/1512\u001b[0m \u001b[32m━━━━━━━━━━━━━━━━━━━━\u001b[0m\u001b[37m\u001b[0m \u001b[1m20s\u001b[0m 10ms/step - accuracy: 0.9999 - loss: 2.5708e-04 - val_accuracy: 0.8885 - val_loss: 1.2893\n",
            "Epoch 48/50\n",
            "\u001b[1m1512/1512\u001b[0m \u001b[32m━━━━━━━━━━━━━━━━━━━━\u001b[0m\u001b[37m\u001b[0m \u001b[1m21s\u001b[0m 11ms/step - accuracy: 0.9999 - loss: 2.9383e-04 - val_accuracy: 0.8875 - val_loss: 1.3133\n",
            "Epoch 49/50\n",
            "\u001b[1m1512/1512\u001b[0m \u001b[32m━━━━━━━━━━━━━━━━━━━━\u001b[0m\u001b[37m\u001b[0m \u001b[1m16s\u001b[0m 11ms/step - accuracy: 0.9999 - loss: 3.0013e-04 - val_accuracy: 0.8891 - val_loss: 1.3056\n",
            "Epoch 50/50\n",
            "\u001b[1m1512/1512\u001b[0m \u001b[32m━━━━━━━━━━━━━━━━━━━━\u001b[0m\u001b[37m\u001b[0m \u001b[1m20s\u001b[0m 11ms/step - accuracy: 0.9999 - loss: 3.3288e-04 - val_accuracy: 0.8881 - val_loss: 1.3241\n"
          ]
        },
        {
          "output_type": "stream",
          "name": "stderr",
          "text": [
            "WARNING:absl:You are saving your model as an HDF5 file via `model.save()` or `keras.saving.save_model(model)`. This file format is considered legacy. We recommend using instead the native Keras format, e.g. `model.save('my_model.keras')` or `keras.saving.save_model(model, 'my_model.keras')`. \n"
          ]
        }
      ],
      "source": [
        "# Importing necessary libraries\n",
        "import numpy as np\n",
        "import tensorflow as tf\n",
        "from tensorflow.keras.models import Sequential\n",
        "from tensorflow.keras.layers import LSTM, Dense, Embedding, Dropout\n",
        "from tensorflow.keras.preprocessing.text import Tokenizer\n",
        "from tensorflow.keras.utils import to_categorical\n",
        "import re\n",
        "from tensorflow.keras.preprocessing.sequence import pad_sequences\n",
        "\n",
        "# Step 1: Load and preprocess the data\n",
        "with open(\"sherlock.txt\", \"r\", encoding=\"utf-8\") as file:\n",
        "    text = file.read().lower()  # Read the file and convert to lowercase\n",
        "\n",
        "# Step 2: Clean the text (removing HTML tags, extra spaces, etc.)\n",
        "text = re.sub(r'<.*?>', '', text)  # Remove any HTML tags\n",
        "text = re.sub(r'\\s+', ' ', text)  # Replace multiple spaces with a single space\n",
        "\n",
        "# Step 3: Tokenization (split the text into words)\n",
        "words = text.split()  # Split text into words\n",
        "\n",
        "# Step 4: Create a Tokenizer to convert words into integers\n",
        "tokenizer = Tokenizer()\n",
        "tokenizer.fit_on_texts([text])  # Fit tokenizer on the text\n",
        "\n",
        "# Create a dictionary of word-to-index\n",
        "word_to_int = tokenizer.word_index\n",
        "int_to_word = {i: word for word, i in word_to_int.items()}\n",
        "\n",
        "# Total number of unique words\n",
        "vocab_size = len(word_to_int) + 1  # +1 because indexing starts from 1\n",
        "\n",
        "# Step 5: Prepare sequences for training\n",
        "sequence_length = 50  # Length of input sequence (number of words)\n",
        "sequences = []\n",
        "\n",
        "for i in range(sequence_length, len(words)):\n",
        "    seq = words[i-sequence_length:i]  # Create sequence of 50 words\n",
        "    sequences.append(' '.join(seq))\n",
        "\n",
        "# Step 6: Prepare X and y (X: input, y: output)\n",
        "X = tokenizer.texts_to_sequences(sequences)\n",
        "\n",
        "# Pad the sequences so they have the same length (sequence_length)\n",
        "X = pad_sequences(X, maxlen=sequence_length, padding='pre')\n",
        "\n",
        "# The next word (y) is the word that follows the sequence\n",
        "y = [seq.split()[-1] for seq in sequences]  # Last word of each sequence\n",
        "\n",
        "# Convert y to a sequence of integers\n",
        "y = tokenizer.texts_to_sequences(y)\n",
        "\n",
        "# Convert y to a numpy array\n",
        "# Original: y = np.array(y)\n",
        "y = np.array([item[0] if item else 0 for item in y]) # Replace empty list with 0, take the first element otherwise\n",
        "\n",
        "# One-hot encode the output (y) using to_categorical\n",
        "y = to_categorical(y, num_classes=vocab_size)  # One-hot encode the output\n",
        "\n",
        "\n",
        "\n",
        "# Step 7: Build the LSTM model\n",
        "model = Sequential()\n",
        "\n",
        "# Input Layer (Embedding Layer)\n",
        "model.add(Embedding(input_dim=vocab_size, output_dim=128, input_length=sequence_length))\n",
        "\n",
        "# LSTM Layer\n",
        "model.add(LSTM(128, return_sequences=False))\n",
        "\n",
        "# Dropout Layer (for regularization)\n",
        "model.add(Dropout(0.2))\n",
        "\n",
        "# Dense Layer (Output Layer)\n",
        "model.add(Dense(vocab_size, activation='softmax'))\n",
        "\n",
        "# Compile the model\n",
        "model.compile(optimizer='adam', loss='categorical_crossentropy', metrics=['accuracy'])\n",
        "\n",
        "# Display model summary\n",
        "model.summary()\n",
        "\n",
        "# Step 8: Train the model\n",
        "model.fit(X, y, batch_size=64, epochs=50, validation_split=0.1)\n",
        "\n",
        "# Step 9: Save the trained model\n",
        "model.save('sherlock_text_generator_model.h5')\n",
        "\n"
      ]
    },
    {
      "cell_type": "code",
      "source": [
        "# Step 10: Generate text\n",
        "def generate_text(seed_text, num_words):\n",
        "    for _ in range(num_words):\n",
        "        # Convert the seed text to sequence\n",
        "        sequence = tokenizer.texts_to_sequences([seed_text])\n",
        "        sequence = np.array(sequence)\n",
        "\n",
        "        # Predict the next word\n",
        "        predicted_probs = model.predict(sequence, verbose=0)\n",
        "        predicted_idx = np.argmax(predicted_probs, axis=-1)\n",
        "\n",
        "        # Convert the predicted index to a word\n",
        "        predicted_word = int_to_word[predicted_idx[0]]\n",
        "\n",
        "        # Append the predicted word to the seed text\n",
        "        seed_text += ' ' + predicted_word\n",
        "    return seed_text\n",
        "\n",
        "# Example: Generating 100 words of text starting from a seed text\n",
        "seed_text = \"The Project Gutenberg\"\n",
        "generated_text = generate_text(seed_text, 100)\n",
        "print(generated_text)\n"
      ],
      "metadata": {
        "id": "Z_WyMr_6zyax"
      },
      "execution_count": null,
      "outputs": []
    }
  ]
}