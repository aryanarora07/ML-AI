{
  "nbformat": 4,
  "nbformat_minor": 0,
  "metadata": {
    "colab": {
      "provenance": [],
      "authorship_tag": "ABX9TyM+fVXY5Zv0sLUo5XuwHkL4",
      "include_colab_link": true
    },
    "kernelspec": {
      "name": "python3",
      "display_name": "Python 3"
    },
    "language_info": {
      "name": "python"
    }
  },
  "cells": [
    {
      "cell_type": "markdown",
      "metadata": {
        "id": "view-in-github",
        "colab_type": "text"
      },
      "source": [
        "<a href=\"https://colab.research.google.com/github/aryanarora07/ML-AI/blob/main/dtc0.ipynb\" target=\"_parent\"><img src=\"https://colab.research.google.com/assets/colab-badge.svg\" alt=\"Open In Colab\"/></a>"
      ]
    },
    {
      "cell_type": "code",
      "execution_count": 10,
      "metadata": {
        "colab": {
          "base_uri": "https://localhost:8080/"
        },
        "id": "-iWjSOi38D18",
        "outputId": "5f572712-c482-40b0-cbec-bdb26a84b533"
      },
      "outputs": [
        {
          "output_type": "stream",
          "name": "stdout",
          "text": [
            "287    0\n",
            "109    1\n",
            "235    0\n",
            "105    1\n",
            "359    0\n",
            "      ..\n",
            "258    0\n",
            "122    1\n",
            "272    0\n",
            "412    0\n",
            "354    0\n",
            "Name: HOF, Length: 93, dtype: int64\n"
          ]
        }
      ],
      "source": [
        "import pandas as pd\n",
        "\n",
        "df = pd.read_csv(\"500hits.csv\", encoding=\"latin-1\")\n",
        "df = df.drop(columns=['PLAYER', 'CS'])\n",
        "\n",
        "df.head()\n",
        "\n",
        "X = df.iloc[:, 0:13]\n",
        "y = df.iloc[:, 13]\n",
        "\n",
        "from sklearn.model_selection import train_test_split\n",
        "\n",
        "X_train, X_test, y_train, y_test = train_test_split(X, y, test_size=0.2, random_state=17)\n",
        "\n",
        "\n",
        "from sklearn.tree import DecisionTreeClassifier\n",
        "\n",
        "dtc = DecisionTreeClassifier()\n",
        "\n",
        "dtc.fit(X_train, y_train)\n",
        "y_pred = dtc.predict(X_test)\n",
        "\n",
        "# print(y_pred)\n",
        "print(y_test)\n"
      ]
    }
  ]
}