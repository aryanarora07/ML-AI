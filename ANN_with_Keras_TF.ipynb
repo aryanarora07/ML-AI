{
  "nbformat": 4,
  "nbformat_minor": 0,
  "metadata": {
    "colab": {
      "provenance": [],
      "authorship_tag": "ABX9TyPfT2zQmYwCM5msLod8Vlyc",
      "include_colab_link": true
    },
    "kernelspec": {
      "name": "python3",
      "display_name": "Python 3"
    },
    "language_info": {
      "name": "python"
    }
  },
  "cells": [
    {
      "cell_type": "markdown",
      "metadata": {
        "id": "view-in-github",
        "colab_type": "text"
      },
      "source": [
        "<a href=\"https://colab.research.google.com/github/aryanarora07/ML-AI/blob/main/ANN_with_Keras_TF.ipynb\" target=\"_parent\"><img src=\"https://colab.research.google.com/assets/colab-badge.svg\" alt=\"Open In Colab\"/></a>"
      ]
    },
    {
      "cell_type": "code",
      "execution_count": 2,
      "metadata": {
        "id": "GZVTlCwcM3ws",
        "colab": {
          "base_uri": "https://localhost:8080/"
        },
        "outputId": "e3729d15-07be-42db-df1b-9e6a64af9f98"
      },
      "outputs": [
        {
          "output_type": "stream",
          "name": "stderr",
          "text": [
            "/usr/local/lib/python3.11/dist-packages/keras/src/layers/reshaping/flatten.py:37: UserWarning: Do not pass an `input_shape`/`input_dim` argument to a layer. When using Sequential models, prefer using an `Input(shape)` object as the first layer in the model instead.\n",
            "  super().__init__(**kwargs)\n"
          ]
        },
        {
          "output_type": "stream",
          "name": "stdout",
          "text": [
            "Epoch 1/10\n",
            "\u001b[1m1500/1500\u001b[0m \u001b[32m━━━━━━━━━━━━━━━━━━━━\u001b[0m\u001b[37m\u001b[0m \u001b[1m13s\u001b[0m 7ms/step - accuracy: 0.8628 - loss: 0.4751 - val_accuracy: 0.9568 - val_loss: 0.1449\n",
            "Epoch 2/10\n",
            "\u001b[1m1500/1500\u001b[0m \u001b[32m━━━━━━━━━━━━━━━━━━━━\u001b[0m\u001b[37m\u001b[0m \u001b[1m19s\u001b[0m 6ms/step - accuracy: 0.9641 - loss: 0.1196 - val_accuracy: 0.9618 - val_loss: 0.1292\n",
            "Epoch 3/10\n",
            "\u001b[1m1500/1500\u001b[0m \u001b[32m━━━━━━━━━━━━━━━━━━━━\u001b[0m\u001b[37m\u001b[0m \u001b[1m11s\u001b[0m 7ms/step - accuracy: 0.9759 - loss: 0.0771 - val_accuracy: 0.9711 - val_loss: 0.0962\n",
            "Epoch 4/10\n",
            "\u001b[1m1500/1500\u001b[0m \u001b[32m━━━━━━━━━━━━━━━━━━━━\u001b[0m\u001b[37m\u001b[0m \u001b[1m18s\u001b[0m 5ms/step - accuracy: 0.9824 - loss: 0.0548 - val_accuracy: 0.9703 - val_loss: 0.1036\n",
            "Epoch 5/10\n",
            "\u001b[1m1500/1500\u001b[0m \u001b[32m━━━━━━━━━━━━━━━━━━━━\u001b[0m\u001b[37m\u001b[0m \u001b[1m10s\u001b[0m 7ms/step - accuracy: 0.9871 - loss: 0.0424 - val_accuracy: 0.9703 - val_loss: 0.1047\n",
            "Epoch 6/10\n",
            "\u001b[1m1500/1500\u001b[0m \u001b[32m━━━━━━━━━━━━━━━━━━━━\u001b[0m\u001b[37m\u001b[0m \u001b[1m8s\u001b[0m 6ms/step - accuracy: 0.9885 - loss: 0.0345 - val_accuracy: 0.9712 - val_loss: 0.1012\n",
            "Epoch 7/10\n",
            "\u001b[1m1500/1500\u001b[0m \u001b[32m━━━━━━━━━━━━━━━━━━━━\u001b[0m\u001b[37m\u001b[0m \u001b[1m9s\u001b[0m 6ms/step - accuracy: 0.9907 - loss: 0.0281 - val_accuracy: 0.9732 - val_loss: 0.0990\n",
            "Epoch 8/10\n",
            "\u001b[1m1500/1500\u001b[0m \u001b[32m━━━━━━━━━━━━━━━━━━━━\u001b[0m\u001b[37m\u001b[0m \u001b[1m11s\u001b[0m 7ms/step - accuracy: 0.9931 - loss: 0.0213 - val_accuracy: 0.9688 - val_loss: 0.1258\n",
            "Epoch 9/10\n",
            "\u001b[1m1500/1500\u001b[0m \u001b[32m━━━━━━━━━━━━━━━━━━━━\u001b[0m\u001b[37m\u001b[0m \u001b[1m10s\u001b[0m 7ms/step - accuracy: 0.9936 - loss: 0.0208 - val_accuracy: 0.9778 - val_loss: 0.0984\n",
            "Epoch 10/10\n",
            "\u001b[1m1500/1500\u001b[0m \u001b[32m━━━━━━━━━━━━━━━━━━━━\u001b[0m\u001b[37m\u001b[0m \u001b[1m8s\u001b[0m 5ms/step - accuracy: 0.9956 - loss: 0.0140 - val_accuracy: 0.9732 - val_loss: 0.1208\n",
            "\u001b[1m313/313\u001b[0m \u001b[32m━━━━━━━━━━━━━━━━━━━━\u001b[0m\u001b[37m\u001b[0m \u001b[1m1s\u001b[0m 3ms/step - accuracy: 0.9703 - loss: 0.1174\n",
            "Test Accuracy: 97.46%\n"
          ]
        }
      ],
      "source": [
        "import tensorflow as tf\n",
        "from tensorflow.keras.models import Sequential\n",
        "from tensorflow.keras.layers import Dense, Flatten\n",
        "from tensorflow.keras.datasets import mnist\n",
        "from tensorflow.keras.utils import to_categorical\n",
        "\n",
        "\n",
        "(x_train, y_train), (x_test, y_test) = mnist.load_data()\n",
        "\n",
        "x_train = x_train / 255.0\n",
        "x_test = x_test / 255.0\n",
        "\n",
        "y_train = to_categorical(y_train, 10)\n",
        "y_test = to_categorical(y_test, 10)\n",
        "\n",
        "model = Sequential([\n",
        "Flatten(input_shape=(28, 28)), # Flatten the 2D images into a 1D vector\n",
        "Dense(128, activation='relu'), # Hidden layer with 128 neurons\n",
        "Dense(64, activation='relu'), # Hidden layer with 64 neurons\n",
        "Dense(10, activation='softmax') # Output layer with 10 neurons (one for each digit)\n",
        "])\n",
        "\n",
        "model.compile(optimizer='adam',\n",
        "              loss='categorical_crossentropy',\n",
        "              metrics=['accuracy'])\n",
        "\n",
        "model.fit(x_train, y_train, epochs=10, batch_size=32, validation_split=0.2)\n",
        "\n",
        "test_loss, test_accuracy = model.evaluate(x_test, y_test)\n",
        "\n",
        "print(f\"Test Accuracy: {test_accuracy * 100:.2f}%\")\n",
        "\n",
        "\n"
      ]
    },
    {
      "cell_type": "code",
      "source": [
        "import numpy as np\n",
        "import matplotlib.pyplot as plt\n",
        "from tensorflow.keras.preprocessing import image\n",
        "\n",
        "# Assume the image is a 28x28 pixel image.\n",
        "# Step 1: Load and preprocess the new image\n",
        "img_path = 's.jpg'  # Replace with the path to your image\n",
        "\n",
        "# Load the image, resize to 28x28, and convert to grayscale (if necessary)\n",
        "img = image.load_img(img_path, target_size=(28, 28), color_mode='grayscale')\n",
        "\n",
        "# Convert the image to a NumPy array and normalize the pixel values\n",
        "img_array = np.array(img) / 255.0\n",
        "\n",
        "# Step 2: Reshape the image to (1, 28, 28) as the model expects a batch size of 1\n",
        "img_array = img_array.reshape(1, 28, 28)\n",
        "\n",
        "# Step 3: Make a prediction\n",
        "prediction = model.predict(img_array)\n",
        "\n",
        "# Step 4: Convert the prediction to a readable class (digit)\n",
        "predicted_class = np.argmax(prediction)\n",
        "\n",
        "# Step 5: Display the image and the predicted class\n",
        "plt.imshow(img, cmap='gray')\n",
        "plt.title(f\"Predicted Digit: {predicted_class}\")\n",
        "plt.show()\n",
        "\n",
        "print(f\"Predicted Class: {predicted_class}\")\n"
      ],
      "metadata": {
        "colab": {
          "base_uri": "https://localhost:8080/",
          "height": 487
        },
        "id": "L1_ftuv8x_9u",
        "outputId": "25a5df37-fe75-42e7-9f93-0ac4b43686fd"
      },
      "execution_count": 3,
      "outputs": [
        {
          "output_type": "stream",
          "name": "stdout",
          "text": [
            "\u001b[1m1/1\u001b[0m \u001b[32m━━━━━━━━━━━━━━━━━━━━\u001b[0m\u001b[37m\u001b[0m \u001b[1m0s\u001b[0m 88ms/step\n"
          ]
        },
        {
          "output_type": "display_data",
          "data": {
            "text/plain": [
              "<Figure size 640x480 with 1 Axes>"
            ],
            "image/png": "[encoded data removed]"
          },
          "metadata": {}
        },
        {
          "output_type": "stream",
          "name": "stdout",
          "text": [
            "Predicted Class: 7\n"
          ]
        }
      ]
    }
  ]
}